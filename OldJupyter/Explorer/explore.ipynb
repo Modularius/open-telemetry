{
 "cells": [
  {
   "cell_type": "code",
   "execution_count": 1,
   "metadata": {},
   "outputs": [],
   "source": [
    "from typing import List, Dict, Any\n",
    "import json\n",
    "import requests\n",
    "import time\n",
    "\n",
    "Span = Dict[str,Any]\n",
    "Trace = Dict[str,Any]\n",
    "\n",
    "def build_jaeger_trace_endpoint(params : List[str]) -> str:\n",
    "    return f\"http://localhost:6686/api/traces?{\"&\".join(params)}\"\n",
    "\n",
    "def time_range_from_lookback_mins(lookback_minutes: int) -> tuple[int,int]:\n",
    "    start_ms = int(time.time() - lookback_minutes*60_000_000)\n",
    "    end_ms = int(time.time()*60_000_000)\n",
    "    return (start_ms, end_ms)\n",
    "\n",
    "def time_range_in_mins_ago(start_mins: int, end_mins : int) -> tuple[int,int]:\n",
    "    start_us = int((time.time() - start_mins*60)*1_000_000)\n",
    "    end_us = int((time.time() - end_mins*60)*1_000_000)\n",
    "    return (start_us, end_us)\n",
    "\n",
    "def build_jaeger_spans_endpoint_url(limit: int,  service : str, namespace : str, operation : str, time_range: tuple[int,int], lookback_minutes : int, tags : Dict[str,str]) -> str:\n",
    "    lookback_seconds = 60*lookback_minutes\n",
    "    (start_ms, end_ms) = time_range\n",
    "    \n",
    "    tags[\"service.namespace\"] = namespace\n",
    "    full_tags = \"%2C\".join([f'\"{key}\"%3A\"{value}\"' for (key,value) in tags.items()])\n",
    "    limit_str = f\"limit={limit}\"\n",
    "    lookback_str = f\"lookback={lookback_seconds}s\"\n",
    "    service_str = f\"service={service}\"\n",
    "    operation_str = f\"operation={operation}\"\n",
    "    start_str = f\"start={start_ms}\"\n",
    "    end_str = f\"end={end_ms}\"\n",
    "    tags_str = f\"tags=%7B{full_tags}%7D\"\n",
    "    return build_jaeger_trace_endpoint([limit_str,lookback_str,service_str,operation_str,start_str,end_str,tags_str])\n",
    "\n",
    "def scrape_jaeger_endpoint(url : str) -> Dict[str, List[Trace]]:\n",
    "    try:\n",
    "        response = requests.get(url)\n",
    "        response.raise_for_status()\n",
    "    except requests.exceptions.HTTPError as err:\n",
    "        raise err\n",
    "\n",
    "    return json.loads(response.text)\n",
    "\n",
    "def get_traces(limit: int, service: str, namespace: str, op_name: str, time_range: tuple[int,int], lookback_minutes: int, tags: Dict[str, str]):\n",
    "    url = build_jaeger_spans_endpoint_url(limit, service, namespace, op_name, time_range, lookback_minutes, tags);\n",
    "    result = scrape_jaeger_endpoint(url)\n",
    "    return result[\"data\"]\n",
    "\n",
    "# Given a trace, find the list of spans with span['operationName'] == op_name\n",
    "def get_spans_list_from_trace_by_name(trace : Trace, op_name) -> List[Span]:\n",
    "    return [span for span in trace[\"spans\"] if span['operationName'] == op_name]\n",
    "\n",
    "# Given a span, find the first tag value with tag key == key\n",
    "def get_one_value_from_span_tags_by_key(span : Span, key):\n",
    "    return next(tag[\"value\"] for tag in span[\"tags\"] if tag['key'] == key)\n",
    "\n",
    "# Given a trace, find the first spans with span['operationName'] == op_name\n",
    "def get_one_span_from_trace_by_name(trace : Trace, op_name: str) -> Span:\n",
    "    return next(span for span in trace[\"spans\"] if span['operationName'] == op_name)\n",
    "\n",
    "# Given a trace, find the first spans with span['operationName'] == op_name\n",
    "def get_one_span_from_trace_by_name_and_code_namespace(trace : Trace, op_name: str, code_namespace: str) -> Span:\n",
    "    return next(span for span in trace[\"spans\"] if span['operationName'] == op_name and get_one_value_from_span_tags_by_key(span, 'code.namespace') == code_namespace)\n",
    "\n"
   ]
  },
  {
   "cell_type": "code",
   "execution_count": 2,
   "metadata": {},
   "outputs": [],
   "source": [
    "#url = build_jaeger_spans_endpoint_url(10,\"digitiser-aggregator\", \"pipeline_1\", \"Frame\", 60,dict());\n",
    "#url = build_jaeger_spans_endpoint_url(100,\"digitiser-aggregator\", \"pipeline_1\", \"Frame\", time_range_from_lookback_mins(60), 60, {\"frame_is_expired\": \"true\"});\n",
    "#print(url)\n",
    "#value = scrape_jaeger_endpoint(url)\n",
    "#print(value)\n"
   ]
  },
  {
   "cell_type": "code",
   "execution_count": 3,
   "metadata": {},
   "outputs": [],
   "source": [
    "from datetime import datetime\n",
    "\n",
    "def get_time_range_us_from_timestamp(timestamp: str, secs_under: int, secs_over: int) -> tuple[int,int]:\n",
    "    secs = float(datetime.strptime(timestamp.split(\".\")[0], \"%Y-%m-%dT%H:%M:%S\").strftime('%s'))\n",
    "    ts_start = int((secs - secs_under)*1_000_000)\n",
    "    ts_end = int((secs + secs_over)*1_000_000)\n",
    "    return (ts_start, ts_end)\n",
    "\n",
    "def make_timestamp_jaeger_suitable(timestamp):\n",
    "    return timestamp.replace(\"+\",\"%5C%5C%2B\").replace(\":\", \"%3A\")\n",
    "    \n",
    "\n",
    "# Given a timestamp\n",
    "def find_traces_by_span_metadata_timestamp(limit: int, service: str, namespace: str, lookback_minutes: int, span_name: str, timestamp: str):\n",
    "    time_Range = get_time_range_us_from_timestamp(timestamp, 10000, 10000)\n",
    "    timestamp = make_timestamp_jaeger_suitable(timestamp)\n",
    "    return get_traces(limit, service, namespace, span_name, time_Range, lookback_minutes, {\"metadata_timestamp\": timestamp});\n",
    "\n",
    "#def find_spans_in_traces_by_span_metadata_timestamp(limit: int, service: str, namespace: str, span_name: str, timestamp: str) -> List[Span]:\n",
    "#    traces = find_traces_by_span_metadata_timestamp(limit, service, namespace, 60, span_name, timestamp)\n",
    "#    return [get_one_span_from_trace_by_name_and_service(trace, \"process_digitiser_trace_message\", service) for trace in traces]\n",
    "\n",
    "\n",
    "#for trace in traces:\n",
    "#    num_digitisers = len(get_spans_list_from_trace_by_name(trace, \"Digitiser Event List\"))\n",
    "#    frame_span = get_one_span_from_trace_by_name(trace, \"Frame\")\n",
    "#    timestamp_raw = get_one_value_from_span_tags_by_key(frame_span, \"metadata_timestamp\")\n",
    "#    \n",
    "#    spans = find_spans_in_traces_by_span_metadata_timestamp(10, \"trace-to-events\", \"pipeline_1\", \"process_digitiser_trace_message\", timestamp_raw)\n",
    "#    d_id = [get_one_value_from_span_tags_by_key(span, \"digitiser_id\") for span in spans]\n",
    "\n",
    "#    print(f\"{timestamp_raw}, {num_digitisers}\")"
   ]
  },
  {
   "cell_type": "code",
   "execution_count": 7,
   "metadata": {},
   "outputs": [
    {
     "name": "stdout",
     "output_type": "stream",
     "text": [
      "3000\n"
     ]
    }
   ],
   "source": [
    "# Tool to find incomplete frames, and track down traces with equal metadata_timestamps\n",
    "lookback_minutes = 48*60\n",
    "time_range = time_range_in_mins_ago(lookback_minutes, 0*60)\n",
    "incomplete_frame_traces = get_traces(3000,  \"digitiser-aggregator\", \"hifi_1\", \"Frame\", time_range, lookback_minutes, { \"frame_is_expired\": \"true\" })\n",
    "print(len(incomplete_frame_traces))"
   ]
  },
  {
   "cell_type": "code",
   "execution_count": 8,
   "metadata": {},
   "outputs": [],
   "source": [
    "for trace in incomplete_frame_traces:\n",
    "    frame_span = get_one_span_from_trace_by_name(trace, \"Frame\")\n",
    "    metadata_timestamp_value = get_one_value_from_span_tags_by_key(frame_span, \"metadata_timestamp\")\n",
    "    tags = {\"metadata_timestamp\": make_timestamp_jaeger_suitable(metadata_timestamp_value)}\n",
    "\n",
    "    # Exclude frames with no logs\n",
    "    digitiser_eventlist_messages_traces = get_traces(20, \"digitiser-aggregator\", \"hifi_1\", \"process_digitiser_event_list_message\", time_range, lookback_minutes, tags)\n",
    "    if all([get_one_span_from_trace_by_name(t, \"process_digitiser_event_list_message\")['logs'] == [] for t in digitiser_eventlist_messages_traces]):\n",
    "        continue\n",
    "\n",
    "    for t in digitiser_eventlist_messages_traces:\n",
    "        process_kafka_message_span = get_spans_list_from_trace_by_name(t, \"process_kafka_message\", \"digitiser_aggregator\")\n",
    "        process_digitiser_event_list_message_span = get_one_span_from_trace_by_name(t, \"process_digitiser_event_list_message\")\n",
    "        digitiser_id = get_one_value_from_span_tags_by_key(process_digitiser_event_list_message_span, \"digitiser_id\")\n",
    "        \n",
    "        kafka_message_timestamp_ms = [get_one_value_from_span_tags_by_key(span, \"kafka_message_timestamp_ms\") for span in process_kafka_message_span]\n",
    "        logs = process_digitiser_event_list_message_span['logs']\n",
    "        print(\"kafka eventlist time for\", digitiser_id, kafka_message_timestamp_ms, logs)\n",
    "        \n",
    "    '''digitiser_trace_messages_traces = get_traces(20, \"trace-to-events\", \"hifi_1\", \"process_digitiser_trace_message\", time_range, lookback_minutes, tags)\n",
    "    for t in digitiser_trace_messages_traces:\n",
    "        process_kafka_message_span_tte = get_one_span_from_trace_by_name_and_code_namespace(t, \"process_kafka_message\", \"trace_to_events\")\n",
    "        process_digitiser_trace_message_span = get_one_span_from_trace_by_name(t, \"process_digitiser_trace_message\")\n",
    "        digitiser_id = get_one_value_from_span_tags_by_key(process_digitiser_trace_message_span, \"digitiser_id\")\n",
    "\n",
    "        kafka_message_timestamp_ms = get_one_value_from_span_tags_by_key(process_kafka_message_span_tte, \"kafka_message_timestamp_ms\")\n",
    "        print(\"kafka trace     time for\", digitiser_id, kafka_message_timestamp_ms)\n",
    "        '''"
   ]
  },
  {
   "cell_type": "markdown",
   "metadata": {},
   "source": []
  },
  {
   "cell_type": "markdown",
   "metadata": {},
   "source": []
  }
 ],
 "metadata": {
  "kernelspec": {
   "display_name": "Python 3",
   "language": "python",
   "name": "python3"
  },
  "language_info": {
   "codemirror_mode": {
    "name": "ipython",
    "version": 3
   },
   "file_extension": ".py",
   "mimetype": "text/x-python",
   "name": "python",
   "nbconvert_exporter": "python",
   "pygments_lexer": "ipython3",
   "version": "3.12.4"
  }
 },
 "nbformat": 4,
 "nbformat_minor": 2
}
