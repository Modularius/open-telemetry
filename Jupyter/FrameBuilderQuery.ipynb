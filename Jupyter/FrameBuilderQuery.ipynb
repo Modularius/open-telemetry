{
 "cells": [
  {
   "cell_type": "code",
   "execution_count": 20,
   "metadata": {},
   "outputs": [
    {
     "name": "stdout",
     "output_type": "stream",
     "text": [
      "The autoreload extension is already loaded. To reload it, use:\n",
      "  %reload_ext autoreload\n"
     ]
    }
   ],
   "source": [
    "%load_ext autoreload\n",
    "%autoreload 2\n",
    "\n",
    "import time\n",
    "from typing import Optional, Tuple, List, Dict, Any\n",
    "import frame.frame_assembler as fa\n",
    "import frame.frame as fr\n",
    "import timeseries as ts\n",
    "import histogram as hg\n",
    "import plots as pt\n",
    "from datetime import datetime\n",
    "from elasticsearch import Elasticsearch\n",
    "import json\n",
    "import matplotlib.pyplot as plt\n",
    "from matplotlib.ticker import MultipleLocator\n",
    "import numpy as np\n",
    "import frame.frame_collection_stats as fcs\n",
    "from lib import ESQuery\n",
    "\n",
    "client = Elasticsearch(\"http://localhost:9200/\", api_key=\"WGRuTF9wUUIzYVpjeXh5Wnl2RlA6Q3ZPUFJoZXRUX1NiX3NWQ0FGbHZEdw==\")\n",
    "\n",
    "def print_json(j):\n",
    "    print(json.dumps(j, indent=4))"
   ]
  },
  {
   "cell_type": "code",
   "execution_count": 7,
   "metadata": {},
   "outputs": [
    {
     "name": "stdout",
     "output_type": "stream",
     "text": [
      "Finding Digitiser Event List\n",
      "Finding process_digitiser_event_list_message\n",
      "Finding process_kafka_message (digitiser-aggregator)\n",
      "Finding process_digitiser_trace_message\n",
      "Finding process_kafka_message (trace-to-events)\n",
      "Finding process\n",
      "Finding process_kafka_message (nexus-writer)\n",
      "800 frames\n",
      "800 process_kafka_messages_writer\n",
      "6400 process_digitiser_event_list_messages\n",
      "6400 process_kafka_messages_aggregator\n",
      "6400 process_digitiser_trace_messages\n",
      "6400 process_kafka_messages_events\n",
      "6400 process_events\n"
     ]
    }
   ],
   "source": [
    "index_datetime = \"2025-03-02\"\n",
    "time_from = f\"{index_datetime}T03:54:40.0Z\"\n",
    "time_to = f\"{index_datetime}T03:55:00.0Z\"\n",
    "index = f\"jaeger-span-{index_datetime}*\"\n",
    "namespace = \"hifi_1\"\n",
    "\n",
    "frame_asm = fa.FrameAssembler(client, namespace, index_datetime, 10000)\n",
    "musts = [{ \"term\": { \"tag.frame_is_expired\": \"true\" } }]\n",
    "filters = add_range_to(time_from, time_to, [])\n",
    "frame_asm.find_frames([], [], filters, index_datetime, 10000)\n",
    "frame_asm.print_summary()"
   ]
  },
  {
   "cell_type": "code",
   "execution_count": null,
   "metadata": {},
   "outputs": [],
   "source": [
    "\n",
    "'''\n",
    "Extracting Incomplete Frames\n",
    "'''\n",
    "\n",
    "frames1 = fa.FrameAssembler(client, \"hifi_1\", \"2025-02-24\", 10000)\n",
    "musts = [ {\n",
    "    \"function_score\": {\n",
    "        \"random_score\": {\n",
    "            \"seed\": time.time_ns(),\n",
    "            \"field\": \"tag.metadata_timestamp\"\n",
    "        }\n",
    "    }\n",
    "}]\n",
    "shoulds = []\n",
    "filters = []\n",
    "frames1.find_frames(musts, shoulds, filters, \"2025-02-24\", 20)\n",
    "\n",
    "frames2 = fa.FrameAssembler(client, \"hifi_1\", \"2025-02-24\", 10000)\n",
    "musts = [{ \"term\": { \"tag.frame_is_expired\": \"true\" } }]\n",
    "shoulds = []\n",
    "filters = []\n",
    "frames2.find_frames(musts, shoulds, filters, \"2025-02-24\", 20)\n",
    "\n",
    "frames1.print_summary()\n",
    "frames2.print_summary()\n"
   ]
  },
  {
   "cell_type": "code",
   "execution_count": 9,
   "metadata": {},
   "outputs": [
    {
     "name": "stdout",
     "output_type": "stream",
     "text": [
      "   [Child Digitisers]\n",
      "   trace (us):               139 < 301.18515625 (~104.19991093692437) < 2226\n",
      "   trace to eventlist (us):  605 < 4205.5771875 (~1665.698030753503) < 14481\n",
      "   eventlist (us):           15 < 48.84796875 (~29.62253304089618) < 419\n",
      "   trace to writer (ms):     16 < 38.63171875 (~10.823672789498286) < 68\n",
      "   eventlist to writer (ms): 1 < 18.16015625 (~11.831861333825325) < 53\n"
     ]
    }
   ],
   "source": [
    "import frame.frame_collection_stats as fcs\n",
    "frames = [fr.Aggragator_Frame(frame,frame_asm) for frame in frame_asm.frames]\n",
    "frames = fcs.FrameCollectionStats(frames)\n",
    "frames.print(\"  \")\n"
   ]
  },
  {
   "cell_type": "code",
   "execution_count": null,
   "metadata": {},
   "outputs": [],
   "source": [
    "import frame.frame_stats as fs\n",
    "the_frames = [fr.Aggragator_Frame(frame,frames2) for frame in frames2.frames]\n",
    "for frame in the_frames:\n",
    "    #frame.print_summaries()\n",
    "    stats = fs.FrameStats(frame)\n",
    "    stats.print()"
   ]
  }
 ],
 "metadata": {
  "kernelspec": {
   "display_name": "Python 3",
   "language": "python",
   "name": "python3"
  },
  "language_info": {
   "codemirror_mode": {
    "name": "ipython",
    "version": 3
   },
   "file_extension": ".py",
   "mimetype": "text/x-python",
   "name": "python",
   "nbconvert_exporter": "python",
   "pygments_lexer": "ipython3",
   "version": "3.12.8"
  }
 },
 "nbformat": 4,
 "nbformat_minor": 2
}
