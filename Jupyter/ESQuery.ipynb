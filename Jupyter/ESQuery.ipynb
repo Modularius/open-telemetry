{
 "cells": [
  {
   "cell_type": "code",
   "execution_count": 3,
   "metadata": {},
   "outputs": [],
   "source": [
    "%load_ext autoreload\n",
    "%autoreload 2\n",
    "\n",
    "import timeseries as ts\n",
    "from elasticsearch import Elasticsearch\n",
    "import json\n",
    "import frame.frame_collection_stats as fcs\n",
    "from lib import ESQuery\n",
    "\n",
    "client = Elasticsearch(\"http://localhost:9200/\", api_key=\"WGRuTF9wUUIzYVpjeXh5Wnl2RlA6Q3ZPUFJoZXRUX1NiX3NWQ0FGbHZEdw==\")\n"
   ]
  },
  {
   "cell_type": "code",
   "execution_count": 26,
   "metadata": {},
   "outputs": [
    {
     "data": {
      "text/plain": [
       "{'doc_count_error_upper_bound': 216,\n",
       " 'sum_other_doc_count': 137224,\n",
       " 'buckets': [{'key': 1743424589897,\n",
       "   'key_as_string': '2025-03-31T12:36:29.897Z',\n",
       "   'doc_count': 208},\n",
       "  {'key': 1743425666133,\n",
       "   'key_as_string': '2025-03-31T12:54:26.133Z',\n",
       "   'doc_count': 200},\n",
       "  {'key': 1743425327100,\n",
       "   'key_as_string': '2025-03-31T12:48:47.100Z',\n",
       "   'doc_count': 192},\n",
       "  {'key': 1743423424838,\n",
       "   'key_as_string': '2025-03-31T12:17:04.838Z',\n",
       "   'doc_count': 176},\n",
       "  {'key': 1743424148275,\n",
       "   'key_as_string': '2025-03-31T12:29:08.275Z',\n",
       "   'doc_count': 160},\n",
       "  {'key': 1743426606513,\n",
       "   'key_as_string': '2025-03-31T13:10:06.513Z',\n",
       "   'doc_count': 160},\n",
       "  {'key': 1743422602366,\n",
       "   'key_as_string': '2025-03-31T12:03:22.366Z',\n",
       "   'doc_count': 152},\n",
       "  {'key': 1743423159833,\n",
       "   'key_as_string': '2025-03-31T12:12:39.833Z',\n",
       "   'doc_count': 152},\n",
       "  {'key': 1743424223844,\n",
       "   'key_as_string': '2025-03-31T12:30:23.844Z',\n",
       "   'doc_count': 152},\n",
       "  {'key': 1743424461934,\n",
       "   'key_as_string': '2025-03-31T12:34:21.934Z',\n",
       "   'doc_count': 152}]}"
      ]
     },
     "execution_count": 26,
     "metadata": {},
     "output_type": "execute_result"
    }
   ],
   "source": [
    "esq = ESQuery(\"pipeline-musr\").add_service_and_op_name(\"digitiser-aggregator\", \"process_digitiser_event_list_message\").add_query({\n",
    "    \"range\": {\n",
    "        \"startTimeMillis\": { \"gte\": 1743422400000 }\n",
    "    }\n",
    "}).add_query({\n",
    "    \"term\": {\n",
    "        \"tag.is_discarded\" : { \"value\": True }\n",
    "    }\n",
    "})\n",
    "aggs = {\n",
    "    \"timestamp\": {\n",
    "        \"terms\" : {\n",
    "            \"field\": \"tag.metadata_timestamp\"\n",
    "        }\n",
    "    }\n",
    "}\n",
    "body = {\n",
    "    \"aggs\": aggs,\n",
    "    \"query\": {\"bool\": {\"must\" : esq.get_queries() }}\n",
    "}\n",
    "client.search(index = \"jaeger-span-2025-03-31*\", body=body).raw[\"aggregations\"][\"timestamp\"]"
   ]
  }
 ],
 "metadata": {
  "kernelspec": {
   "display_name": "Python 3",
   "language": "python",
   "name": "python3"
  },
  "language_info": {
   "codemirror_mode": {
    "name": "ipython",
    "version": 3
   },
   "file_extension": ".py",
   "mimetype": "text/x-python",
   "name": "python",
   "nbconvert_exporter": "python",
   "pygments_lexer": "ipython3",
   "version": "3.12.8"
  }
 },
 "nbformat": 4,
 "nbformat_minor": 2
}
