{
 "cells": [
  {
   "cell_type": "code",
   "execution_count": null,
   "metadata": {},
   "outputs": [],
   "source": [
    "%load_ext autoreload\n",
    "%autoreload 2\n",
    "\n",
    "import timeseries as ts\n",
    "from elasticsearch import Elasticsearch\n",
    "import json\n",
    "import frame.frame_collection_stats as fcs\n",
    "from lib import ESQuery\n",
    "from es import aggs\n",
    "\n",
    "client = Elasticsearch(\"http://localhost:9200/\", api_key=\"WGRuTF9wUUIzYVpjeXh5Wnl2RlA6Q3ZPUFJoZXRUX1NiX3NWQ0FGbHZEdw==\")\n"
   ]
  },
  {
   "cell_type": "code",
   "execution_count": null,
   "metadata": {},
   "outputs": [],
   "source": [
    "query = ESQuery(\"hifi_1\") \\\n",
    "    .add_service_and_op_name(\"digitiser_aggregator\", \"process_kafka_message\") \\\n",
    "    .add_range(\"2025-03-30T00:00:00.0Z\",\"2025-03-31T00:00:00.0Z\")\n",
    "body = {\n",
    "    \"query\": query.get_queries(),\n",
    "    \"aggs\": {\n",
    "        \"messages_by_minute\": aggs.DateHistogramAgg(\"startTimeMillis\", \"1m\"),\n",
    "        \"message_freq_by_hour\": aggs.MovingFunctionAgg(\"messages_by_minute\", 60, \"MovingFunctions.avg\")\n",
    "    }\n",
    "}"
   ]
  }
 ],
 "metadata": {
  "language_info": {
   "name": "python"
  }
 },
 "nbformat": 4,
 "nbformat_minor": 2
}
